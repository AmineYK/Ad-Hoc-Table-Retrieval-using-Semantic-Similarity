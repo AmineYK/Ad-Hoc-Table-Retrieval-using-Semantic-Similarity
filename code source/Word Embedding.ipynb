{
 "cells": [
  {
   "cell_type": "code",
   "execution_count": 1,
   "id": "1c7e8fb0",
   "metadata": {
    "colab": {
     "base_uri": "https://localhost:8080/"
    },
    "id": "1c7e8fb0",
    "outputId": "508a31ca-1c8a-46da-d0fb-f2015892cff6"
   },
   "outputs": [
    {
     "name": "stdout",
     "output_type": "stream",
     "text": [
      "Requirement already satisfied: python-terrier in /home/amine/anaconda3/lib/python3.9/site-packages (0.9.2)\n",
      "Requirement already satisfied: ir-measures>=0.3.1 in /home/amine/anaconda3/lib/python3.9/site-packages (from python-terrier) (0.3.1)\n",
      "Requirement already satisfied: dill in /home/amine/anaconda3/lib/python3.9/site-packages (from python-terrier) (0.3.6)\n",
      "Requirement already satisfied: joblib in /home/amine/anaconda3/lib/python3.9/site-packages (from python-terrier) (1.2.0)\n",
      "Requirement already satisfied: numpy in /home/amine/anaconda3/lib/python3.9/site-packages (from python-terrier) (1.22.4)\n",
      "Requirement already satisfied: ir-datasets>=0.3.2 in /home/amine/anaconda3/lib/python3.9/site-packages (from python-terrier) (0.5.4)\n",
      "Requirement already satisfied: matchpy in /home/amine/anaconda3/lib/python3.9/site-packages (from python-terrier) (0.5.5)\n",
      "Requirement already satisfied: tqdm in /home/amine/anaconda3/lib/python3.9/site-packages (from python-terrier) (4.64.0)\n",
      "Requirement already satisfied: statsmodels in /home/amine/anaconda3/lib/python3.9/site-packages (from python-terrier) (0.13.2)\n",
      "Requirement already satisfied: pytrec-eval-terrier>=0.5.3 in /home/amine/anaconda3/lib/python3.9/site-packages (from python-terrier) (0.5.5)\n",
      "Requirement already satisfied: jinja2 in /home/amine/anaconda3/lib/python3.9/site-packages (from python-terrier) (2.11.3)\n",
      "Requirement already satisfied: pyjnius>=1.4.2 in /home/amine/anaconda3/lib/python3.9/site-packages (from python-terrier) (1.4.2)\n",
      "Requirement already satisfied: scipy in /home/amine/anaconda3/lib/python3.9/site-packages (from python-terrier) (1.7.3)\n",
      "Requirement already satisfied: deprecated in /home/amine/anaconda3/lib/python3.9/site-packages (from python-terrier) (1.2.13)\n",
      "Requirement already satisfied: chest in /home/amine/anaconda3/lib/python3.9/site-packages (from python-terrier) (0.2.3)\n",
      "Requirement already satisfied: pandas in /home/amine/anaconda3/lib/python3.9/site-packages (from python-terrier) (1.4.2)\n",
      "Requirement already satisfied: nptyping==1.4.4 in /home/amine/anaconda3/lib/python3.9/site-packages (from python-terrier) (1.4.4)\n",
      "Requirement already satisfied: requests in /home/amine/anaconda3/lib/python3.9/site-packages (from python-terrier) (2.27.1)\n",
      "Requirement already satisfied: more-itertools in /home/amine/anaconda3/lib/python3.9/site-packages (from python-terrier) (9.1.0)\n",
      "Requirement already satisfied: wget in /home/amine/anaconda3/lib/python3.9/site-packages (from python-terrier) (3.2)\n",
      "Requirement already satisfied: scikit-learn in /home/amine/anaconda3/lib/python3.9/site-packages (from python-terrier) (0.23.2)\n",
      "Requirement already satisfied: typish>=1.7.0 in /home/amine/anaconda3/lib/python3.9/site-packages (from nptyping==1.4.4->python-terrier) (1.9.3)\n",
      "Requirement already satisfied: ijson>=3.1.3 in /home/amine/anaconda3/lib/python3.9/site-packages (from ir-datasets>=0.3.2->python-terrier) (3.2.0.post0)\n",
      "Requirement already satisfied: lxml>=4.5.2 in /home/amine/anaconda3/lib/python3.9/site-packages (from ir-datasets>=0.3.2->python-terrier) (4.8.0)\n",
      "Requirement already satisfied: warc3-wet-clueweb09>=0.2.5 in /home/amine/anaconda3/lib/python3.9/site-packages (from ir-datasets>=0.3.2->python-terrier) (0.2.5)\n",
      "Requirement already satisfied: zlib-state>=0.1.3 in /home/amine/anaconda3/lib/python3.9/site-packages (from ir-datasets>=0.3.2->python-terrier) (0.1.5)\n",
      "Requirement already satisfied: unlzw3>=0.2.1 in /home/amine/anaconda3/lib/python3.9/site-packages (from ir-datasets>=0.3.2->python-terrier) (0.2.2)\n",
      "Requirement already satisfied: trec-car-tools>=2.5.4 in /home/amine/anaconda3/lib/python3.9/site-packages (from ir-datasets>=0.3.2->python-terrier) (2.6)\n",
      "Requirement already satisfied: beautifulsoup4>=4.4.1 in /home/amine/anaconda3/lib/python3.9/site-packages (from ir-datasets>=0.3.2->python-terrier) (4.11.1)\n",
      "Requirement already satisfied: lz4>=3.1.1 in /home/amine/anaconda3/lib/python3.9/site-packages (from ir-datasets>=0.3.2->python-terrier) (4.3.2)\n",
      "Requirement already satisfied: warc3-wet>=0.2.3 in /home/amine/anaconda3/lib/python3.9/site-packages (from ir-datasets>=0.3.2->python-terrier) (0.2.3)\n",
      "Requirement already satisfied: pyyaml>=5.3.1 in /home/amine/anaconda3/lib/python3.9/site-packages (from ir-datasets>=0.3.2->python-terrier) (6.0)\n",
      "Requirement already satisfied: pyautocorpus>=0.1.1 in /home/amine/anaconda3/lib/python3.9/site-packages (from ir-datasets>=0.3.2->python-terrier) (0.1.9)\n",
      "Requirement already satisfied: soupsieve>1.2 in /home/amine/anaconda3/lib/python3.9/site-packages (from beautifulsoup4>=4.4.1->ir-datasets>=0.3.2->python-terrier) (2.3.1)\n",
      "Requirement already satisfied: cwl-eval>=1.0.10 in /home/amine/anaconda3/lib/python3.9/site-packages (from ir-measures>=0.3.1->python-terrier) (1.0.12)\n",
      "Requirement already satisfied: six>=1.7.0 in /home/amine/anaconda3/lib/python3.9/site-packages (from pyjnius>=1.4.2->python-terrier) (1.16.0)\n",
      "Requirement already satisfied: charset-normalizer~=2.0.0 in /home/amine/anaconda3/lib/python3.9/site-packages (from requests->python-terrier) (2.0.4)\n",
      "Requirement already satisfied: certifi>=2017.4.17 in /home/amine/anaconda3/lib/python3.9/site-packages (from requests->python-terrier) (2021.10.8)\n",
      "Requirement already satisfied: urllib3<1.27,>=1.21.1 in /home/amine/anaconda3/lib/python3.9/site-packages (from requests->python-terrier) (1.26.15)\n",
      "Requirement already satisfied: idna<4,>=2.5 in /home/amine/anaconda3/lib/python3.9/site-packages (from requests->python-terrier) (3.3)\n",
      "Requirement already satisfied: cbor>=1.0.0 in /home/amine/anaconda3/lib/python3.9/site-packages (from trec-car-tools>=2.5.4->ir-datasets>=0.3.2->python-terrier) (1.0.0)\n",
      "Requirement already satisfied: heapdict in /home/amine/anaconda3/lib/python3.9/site-packages (from chest->python-terrier) (1.0.1)\n",
      "Requirement already satisfied: wrapt<2,>=1.10 in /home/amine/anaconda3/lib/python3.9/site-packages (from deprecated->python-terrier) (1.12.1)\n",
      "Requirement already satisfied: MarkupSafe>=0.23 in /home/amine/anaconda3/lib/python3.9/site-packages (from jinja2->python-terrier) (2.0.1)\n",
      "Requirement already satisfied: multiset<3.0,>=2.0 in /home/amine/anaconda3/lib/python3.9/site-packages (from matchpy->python-terrier) (2.1.1)\n",
      "Requirement already satisfied: python-dateutil>=2.8.1 in /home/amine/anaconda3/lib/python3.9/site-packages (from pandas->python-terrier) (2.8.2)\n",
      "Requirement already satisfied: pytz>=2020.1 in /home/amine/anaconda3/lib/python3.9/site-packages (from pandas->python-terrier) (2021.3)\n",
      "Requirement already satisfied: threadpoolctl>=2.0.0 in /home/amine/anaconda3/lib/python3.9/site-packages (from scikit-learn->python-terrier) (2.2.0)\n",
      "Requirement already satisfied: patsy>=0.5.2 in /home/amine/anaconda3/lib/python3.9/site-packages (from statsmodels->python-terrier) (0.5.2)\n",
      "Requirement already satisfied: packaging>=21.3 in /home/amine/anaconda3/lib/python3.9/site-packages (from statsmodels->python-terrier) (21.3)\n",
      "Requirement already satisfied: pyparsing!=3.0.5,>=2.0.2 in /home/amine/anaconda3/lib/python3.9/site-packages (from packaging>=21.3->statsmodels->python-terrier) (3.0.4)\n"
     ]
    },
    {
     "name": "stderr",
     "output_type": "stream",
     "text": [
      "PyTerrier 0.9.2 has loaded Terrier 5.7 (built by craigm on 2022-11-10 18:30) and terrier-helper 0.0.7\n",
      "\n",
      "No etc/terrier.properties, using terrier.default.properties for bootstrap configuration.\n"
     ]
    }
   ],
   "source": [
    "!pip install python-terrier\n",
    "import math\n",
    "import gensim\n",
    "import pyterrier as pt\n",
    "import re\n",
    "import numpy as np\n",
    "import json\n",
    "import pandas as pd\n",
    "import math\n",
    "import nltk\n",
    "from tqdm import tqdm\n",
    "from nltk.tokenize import word_tokenize\n",
    "from nltk.stem.snowball import FrenchStemmer\n",
    "from SPARQLWrapper import SPARQLWrapper, JSON\n",
    "import warnings\n",
    "warnings.filterwarnings(\"ignore\")\n",
    "import wikipedia\n",
    "import gensim.downloader as api\n",
    "import random\n",
    "from pyrdf2vec.graphs import KG\n",
    "from pyrdf2vec import RDF2VecTransformer\n",
    "from pyrdf2vec.samplers import UniformSampler\n",
    "from pyrdf2vec.embedders import Word2Vec\n",
    "from pyrdf2vec.walkers import RandomWalker\n",
    "from utils import *\n",
    "\n",
    "if not pt.started():\n",
    "    pt.init(boot_packages=[\"com.github.terrierteam:terrier-prf:-SNAPSHOT\"])"
   ]
  },
  {
   "cell_type": "markdown",
   "id": "350de085",
   "metadata": {},
   "source": [
    "## Chargement des tables et des requetes"
   ]
  },
  {
   "cell_type": "code",
   "execution_count": 2,
   "id": "3q26856oBatK",
   "metadata": {
    "id": "3q26856oBatK"
   },
   "outputs": [],
   "source": [
    "with open('tables_1000.json', 'r') as f:\n",
    "  # Charger les données JSON dans un dictionnaire Python\n",
    "  tables = json.load(f)\n",
    "    \n",
    "# Ouvrir le fichier en mode lecture\n",
    "with open('requetes_20.json', 'r') as f:\n",
    "  # Charger les données JSON dans un dictionnaire Python\n",
    "  queries = json.load(f)"
   ]
  },
  {
   "cell_type": "markdown",
   "id": "9655986e",
   "metadata": {},
   "source": [
    "# Experimentations"
   ]
  },
  {
   "cell_type": "code",
   "execution_count": 4,
   "id": "f583a1c9",
   "metadata": {},
   "outputs": [],
   "source": [
    "corpus = tables['tables']\n",
    "nb_tables = 1000\n",
    "nb_queries = 20"
   ]
  },
  {
   "cell_type": "code",
   "execution_count": 5,
   "id": "7bae9e8d",
   "metadata": {},
   "outputs": [],
   "source": [
    "vocabulaire = []\n",
    "for i in range(nb_tables):\n",
    "    table = corpus[i]\n",
    "    content_word = content_extraction(table,base='word')\n",
    "    vocabulaire.extend(content_word)\n",
    "    \n",
    "vocabulaire = set(vocabulaire)"
   ]
  },
  {
   "cell_type": "markdown",
   "id": "fffb6602",
   "metadata": {},
   "source": [
    "### Unsupervised Ranking"
   ]
  },
  {
   "cell_type": "code",
   "execution_count": 8,
   "id": "Nb7oLfLvynrF",
   "metadata": {
    "colab": {
     "base_uri": "https://localhost:8080/",
     "height": 1000
    },
    "id": "Nb7oLfLvynrF",
    "outputId": "9ae53584-6f3e-46d2-c82f-1c2ad2e64c65"
   },
   "outputs": [
    {
     "name": "stdout",
     "output_type": "stream",
     "text": [
      "\n",
      "Pour la table 0 \n",
      "Score BM25 en utilisant le ranking non supervisé en single field :  0\n",
      "Score BM25 en utilisant le ranking non supervisé en multi field (poids uniforms):  0.0\n",
      "Score BM25 en utilisant le ranking non supervisé en multi field (poids non uniforms):  0.0\n",
      "\n",
      "Pour la table 1 \n",
      "Score BM25 en utilisant le ranking non supervisé en single field :  4.394449154672439\n",
      "Score BM25 en utilisant le ranking non supervisé en multi field (poids uniforms):  0.2716246968306389\n",
      "Score BM25 en utilisant le ranking non supervisé en multi field (poids non uniforms):  0.13581234841531944\n",
      "\n",
      "Pour la table 2 \n",
      "Score BM25 en utilisant le ranking non supervisé en single field :  0\n",
      "Score BM25 en utilisant le ranking non supervisé en multi field (poids uniforms):  0.0\n",
      "Score BM25 en utilisant le ranking non supervisé en multi field (poids non uniforms):  0.0\n",
      "\n",
      "Pour la table 3 \n",
      "Score BM25 en utilisant le ranking non supervisé en single field :  2.9789251552376097\n",
      "Score BM25 en utilisant le ranking non supervisé en multi field (poids uniforms):  0.16945957207744075\n",
      "Score BM25 en utilisant le ranking non supervisé en multi field (poids non uniforms):  0.08472978603872038\n",
      "\n",
      "Pour la table 4 \n",
      "Score BM25 en utilisant le ranking non supervisé en single field :  0\n",
      "Score BM25 en utilisant le ranking non supervisé en multi field (poids uniforms):  0.0\n",
      "Score BM25 en utilisant le ranking non supervisé en multi field (poids non uniforms):  0.0\n",
      "\n",
      "Pour la table 5 \n",
      "Score BM25 en utilisant le ranking non supervisé en single field :  0\n",
      "Score BM25 en utilisant le ranking non supervisé en multi field (poids uniforms):  0.0\n",
      "Score BM25 en utilisant le ranking non supervisé en multi field (poids non uniforms):  0.0\n",
      "\n",
      "Pour la table 6 \n",
      "Score BM25 en utilisant le ranking non supervisé en single field :  0\n",
      "Score BM25 en utilisant le ranking non supervisé en multi field (poids uniforms):  0.0\n",
      "Score BM25 en utilisant le ranking non supervisé en multi field (poids non uniforms):  0.0\n",
      "\n",
      "Pour la table 7 \n",
      "Score BM25 en utilisant le ranking non supervisé en single field :  0\n",
      "Score BM25 en utilisant le ranking non supervisé en multi field (poids uniforms):  0.10216512475319815\n",
      "Score BM25 en utilisant le ranking non supervisé en multi field (poids non uniforms):  0.051082562376599076\n",
      "\n",
      "Pour la table 8 \n",
      "Score BM25 en utilisant le ranking non supervisé en single field :  0\n",
      "Score BM25 en utilisant le ranking non supervisé en multi field (poids uniforms):  0.10216512475319815\n",
      "Score BM25 en utilisant le ranking non supervisé en multi field (poids non uniforms):  0.051082562376599076\n",
      "\n",
      "Pour la table 9 \n",
      "Score BM25 en utilisant le ranking non supervisé en single field :  0\n",
      "Score BM25 en utilisant le ranking non supervisé en multi field (poids uniforms):  0.10216512475319815\n",
      "Score BM25 en utilisant le ranking non supervisé en multi field (poids non uniforms):  0.051082562376599076\n",
      "\n",
      "Pour la table 10 \n",
      "Score BM25 en utilisant le ranking non supervisé en single field :  0\n",
      "Score BM25 en utilisant le ranking non supervisé en multi field (poids uniforms):  0.0\n",
      "Score BM25 en utilisant le ranking non supervisé en multi field (poids non uniforms):  0.0\n"
     ]
    }
   ],
   "source": [
    "scores_unsu_ran_sin = []\n",
    "scores_unsu_ran_mul = []\n",
    "\n",
    "for i,table in enumerate(corpus):\n",
    "    print(f\"\\nPour la table {i} \")\n",
    "    q = query\n",
    "    print(\"Score BM25 en utilisant le ranking non supervisé en single field : \",unsuprvised_ranking(table,q))\n",
    "    scores_unsu_ran_sin.append(unsuprvised_ranking(table,q))\n",
    "    print(\"Score BM25 en utilisant le ranking non supervisé en multi field (poids uniforms): \",unsuprvised_ranking(table,q,False))\n",
    "    scores_unsu_ran_mul.append(unsuprvised_ranking(table,q,False,[0.1,0.1,0.1,0.1,0.6]))\n",
    "    print(\"Score BM25 en utilisant le ranking non supervisé en multi field (poids non uniforms): \",unsuprvised_ranking(table,q,False,[0.1,0.1,0.1,0.1,0.6]))"
   ]
  },
  {
   "cell_type": "code",
   "execution_count": 9,
   "id": "a22f3124",
   "metadata": {},
   "outputs": [
    {
     "name": "stdout",
     "output_type": "stream",
     "text": [
      "\n",
      "SCORE UNSUPERVISED RANKING SINGLE\n",
      "NDCG@5 =  0.6176324474063534\n",
      "NDCG@6 =  0.6305224050669415\n",
      "NDCG@7 =  0.6418215600978554\n",
      "NDCG@8 =  0.651896411005132\n",
      "\n",
      "SCORE UNSUPERVISED RANKING MULTI\n",
      "NDCG@5 =  0.666953939877106\n",
      "NDCG@6 =  0.6781812252073862\n",
      "NDCG@7 =  0.6880229051308991\n",
      "NDCG@8 =  0.6967982036054533\n"
     ]
    }
   ],
   "source": [
    "ndcg_unsu_rank_sin = []\n",
    "indices_best_tables = np.argsort(scores_unsu_ran_sin)[::-1]\n",
    "print(\"\\nSCORE UNSUPERVISED RANKING SINGLE\")\n",
    "K = [5,6,7,8]\n",
    "for k in K:\n",
    "    corpus = np.array(corpus)\n",
    "    corpus_best = corpus[indices_best_tables]\n",
    "\n",
    "    relevances = get_relevance(corpus_best)[:k]\n",
    "\n",
    "    ranking = np.arange(len(relevances))\n",
    "    score_ndcg = ndcg(ranking,relevances,k)\n",
    "    ndcg_unsu_rank_sin.append(score_ndcg)\n",
    "    print(f\"NDCG@{k} = \", score_ndcg)\n",
    "    \n",
    "    \n",
    "    \n",
    "ndcg_unsu_rank_mul = []\n",
    "indices_best_tables = np.argsort(scores_unsu_ran_mul)[::-1]\n",
    "print(\"\\nSCORE UNSUPERVISED RANKING MULTI\")\n",
    "K = [5,6,7,8]\n",
    "for k in K:\n",
    "    corpus = np.array(corpus)\n",
    "    corpus_best = corpus[indices_best_tables]\n",
    "\n",
    "    relevances = get_relevance(corpus_best)[:k]\n",
    "\n",
    "    ranking = np.arange(len(relevances))\n",
    "    score_ndcg = ndcg(ranking,relevances,k)\n",
    "    ndcg_unsu_rank_mul.append(score_ndcg)\n",
    "    print(f\"NDCG@{k} = \", score_ndcg)"
   ]
  },
  {
   "cell_type": "markdown",
   "id": "ed9738b7",
   "metadata": {},
   "source": [
    "## Content Extraction"
   ]
  },
  {
   "cell_type": "markdown",
   "id": "015db51a",
   "metadata": {},
   "source": [
    "### Word Based"
   ]
  },
  {
   "cell_type": "code",
   "execution_count": 10,
   "id": "072cc6b5",
   "metadata": {},
   "outputs": [],
   "source": [
    "tables_content_WB = []\n",
    "for i in range(11):\n",
    "    table = tables['tables'][i]\n",
    "    content_word = content_extraction(table,base='word')\n",
    "    tables_content_WB.append(content_word)\n",
    "    \n",
    "query_content_WB = []\n",
    "for i in range(11):\n",
    "    content_word = content_extraction(query,base='word',query=True)\n",
    "    query_content_WB.append(content_word)"
   ]
  },
  {
   "cell_type": "markdown",
   "id": "ca1cbb50",
   "metadata": {},
   "source": [
    "#### Pour les tables"
   ]
  },
  {
   "cell_type": "code",
   "execution_count": 11,
   "id": "a56e78fa",
   "metadata": {},
   "outputs": [
    {
     "name": "stdout",
     "output_type": "stream",
     "text": [
      "EN BASE WORD\n",
      "\n",
      "Le contenu pour la table 0 : \n",
      "{'external', 'sporting', 'positions', 'links', 'dettmar', 'cramer'}\n",
      "\n",
      "Le contenu pour la table 1 : \n",
      "{'for', 'climate', 'katha', 'burma', 'data'}\n",
      "\n",
      "Le contenu pour la table 2 : \n",
      "{'of', 'charts', '1998', 'end', 'november', 'year', 'gone', 'till', 'position', 'chart'}\n",
      "\n",
      "Le contenu pour la table 3 : \n",
      "{'charts', 'song', 'position', 'chart', 'mikazuki', 'peak', '2006'}\n",
      "\n",
      "Le contenu pour la table 4 : \n",
      "{'crater', 'longitude', 'sabine', 'diameter', 'satellite', 'latitude', 'craters'}\n",
      "\n",
      "Le contenu pour la table 5 : \n",
      "{'crater', 'longitude', 'lunar', 'diameter', 'satellite', 'latitude', 'craters', 'secchi'}\n",
      "\n",
      "Le contenu pour la table 6 : \n",
      "{'crater', 'longitude', 'diameter', 'satellite', 'latitude', 'craters', 'silberschlag'}\n",
      "\n",
      "Le contenu pour la table 7 : \n",
      "{'season', 'division', 'london', 'attendances', 'average', 'valley', 'the'}\n",
      "\n",
      "Le contenu pour la table 8 : \n",
      "{'season', 'division', 'london', 'attendances', 'average', 'valley', 'the'}\n",
      "\n",
      "Le contenu pour la table 9 : \n",
      "{'season', 'division', 'london', 'attendances', 'average', 'valley', 'the'}\n",
      "\n",
      "Le contenu pour la table 10 : \n",
      "{'crater', 'longitude', 'diameter', 'satellite', 'latitude', 'craters', 'sosigenes'}\n"
     ]
    }
   ],
   "source": [
    "print(\"EN BASE WORD\")\n",
    "for i in range(11):\n",
    "    print(f\"\\nLe contenu pour la table {i} : \")\n",
    "    print(tables_content_WB[i])"
   ]
  },
  {
   "cell_type": "markdown",
   "id": "eafd4a13",
   "metadata": {},
   "source": [
    "## Semantic Representation"
   ]
  },
  {
   "cell_type": "markdown",
   "id": "84ba6059",
   "metadata": {},
   "source": [
    "### Word Embeddings"
   ]
  },
  {
   "cell_type": "code",
   "execution_count": 12,
   "id": "6c26ad57",
   "metadata": {},
   "outputs": [],
   "source": [
    "words_corpus = []\n",
    "for cont in tables_content_WB:\n",
    "    words_corpus.extend(cont)\n",
    "for cont in query_content_WB:\n",
    "    words_corpus.extend(cont)\n",
    "    \n",
    "words_corpus = set(words_corpus)"
   ]
  },
  {
   "cell_type": "code",
   "execution_count": 13,
   "id": "a017cb19",
   "metadata": {},
   "outputs": [],
   "source": [
    "tables_we = []\n",
    "for i in range(nb_tables):\n",
    "    table = tables['tables'][i]\n",
    "    content_entity_ge = semantic_representation(tables_content_WB[i],'nothing',space='we')\n",
    "    tables_we.append(content_entity_ge)\n",
    "    \n",
    "query_we = []\n",
    "for i in range(nb_tables):\n",
    "    content_entity_ge = semantic_representation(query_content_WB[i],'nothing',space='we')\n",
    "    query_we.append(content_entity_ge)"
   ]
  },
  {
   "cell_type": "code",
   "execution_count": 14,
   "id": "dc2314b0",
   "metadata": {},
   "outputs": [
    {
     "name": "stdout",
     "output_type": "stream",
     "text": [
      "STRATEGY EARLY\n",
      "Similarity entre la table 0 et la requete 0 :  0.19648304656894178\n",
      "Similarity entre la table 1 et la requete 1 :  0.5567133127491916\n",
      "Similarity entre la table 2 et la requete 2 :  0.42351550698501844\n",
      "Similarity entre la table 3 et la requete 3 :  0.5254716811099259\n",
      "Similarity entre la table 4 et la requete 4 :  0.23023786655754616\n",
      "Similarity entre la table 5 et la requete 5 :  0.25427255502386686\n",
      "Similarity entre la table 6 et la requete 6 :  0.23622148676604524\n",
      "Similarity entre la table 7 et la requete 7 :  0.39131187776828585\n",
      "Similarity entre la table 8 et la requete 8 :  0.39131187776828585\n",
      "Similarity entre la table 9 et la requete 9 :  0.39131187776828585\n",
      "Similarity entre la table 10 et la requete 10 :  0.22707445894105682\n",
      "\n",
      "STRATEGY LATE-MAX\n",
      "Similarity entre la table 0 et la requete 0 :  0.23624445129264068\n",
      "Similarity entre la table 1 et la requete 1 :  0.9999930301560832\n",
      "Similarity entre la table 2 et la requete 2 :  0.49719332334328253\n",
      "Similarity entre la table 3 et la requete 3 :  0.9999933495272865\n",
      "Similarity entre la table 4 et la requete 4 :  0.22248588461739216\n",
      "Similarity entre la table 5 et la requete 5 :  0.22248588461739216\n",
      "Similarity entre la table 6 et la requete 6 :  0.22248588461739216\n",
      "Similarity entre la table 7 et la requete 7 :  0.9999921833888112\n",
      "Similarity entre la table 8 et la requete 8 :  0.9999921833888112\n",
      "Similarity entre la table 9 et la requete 9 :  0.9999921833888112\n",
      "Similarity entre la table 10 et la requete 10 :  0.22248588461739216\n",
      "\n",
      "STRATEGY LATE-SUM\n",
      "Similarity entre la table 0 et la requete 0 :  1.1999401376334782\n",
      "Similarity entre la table 1 et la requete 1 :  3.1301504549063095\n",
      "Similarity entre la table 2 et la requete 2 :  3.1022406285554514\n",
      "Similarity entre la table 3 et la requete 3 :  2.7549563515095907\n",
      "Similarity entre la table 4 et la requete 4 :  1.8627700021193931\n",
      "Similarity entre la table 5 et la requete 5 :  2.3615520034704\n",
      "Similarity entre la table 6 et la requete 6 :  1.9929255233379146\n",
      "Similarity entre la table 7 et la requete 7 :  2.7694820767141226\n",
      "Similarity entre la table 8 et la requete 8 :  2.7694820767141226\n",
      "Similarity entre la table 9 et la requete 9 :  2.7694820767141226\n",
      "Similarity entre la table 10 et la requete 10 :  1.7079216244766677\n",
      "\n",
      "STRATEGY LATE-AVG\n",
      "Similarity entre la table 0 et la requete 0 :  0.049997505734728255\n",
      "Similarity entre la table 1 et la requete 1 :  0.15650752274531549\n",
      "Similarity entre la table 2 et la requete 2 :  0.07755601571388629\n",
      "Similarity entre la table 3 et la requete 3 :  0.09839129826819967\n",
      "Similarity entre la table 4 et la requete 4 :  0.06652750007569261\n",
      "Similarity entre la table 5 et la requete 5 :  0.07379850010845\n",
      "Similarity entre la table 6 et la requete 6 :  0.07117591154778266\n",
      "Similarity entre la table 7 et la requete 7 :  0.09891007416836152\n",
      "Similarity entre la table 8 et la requete 8 :  0.09891007416836152\n",
      "Similarity entre la table 9 et la requete 9 :  0.09891007416836152\n",
      "Similarity entre la table 10 et la requete 10 :  0.060997200874166706\n"
     ]
    }
   ],
   "source": [
    "print(\"STRATEGY EARLY\")\n",
    "scores_early = []\n",
    "for i in range(11):\n",
    "    simi = similarity(tables_we[i],query_we[i],strategy='early',aggr='avg',isEmbedding=[tables_content_WB[i],query_content_WB[i],words_corpus])\n",
    "    print(f\"Similarity entre la table {i} et la requete {i} : \" , simi)\n",
    "    scores_early.append(simi)\n",
    "    \n",
    "    \n",
    "print(\"\\nSTRATEGY LATE-MAX\")\n",
    "for i in range(11):\n",
    "    simi = similarity(tables_we[i],query_we[i],strategy='late',aggr='max',isEmbedding=[tables_content_WB[i],query_content_WB[i],words_corpus])\n",
    "    print(f\"Similarity entre la table {i} et la requete {i} : \" , simi)\n",
    "    \n",
    "print(\"\\nSTRATEGY LATE-SUM\")\n",
    "for i in range(11):\n",
    "    simi = similarity(tables_we[i],query_we[i],strategy='late',aggr='sum',isEmbedding=[tables_content_WB[i],query_content_WB[i],words_corpus])\n",
    "    print(f\"Similarity entre la table {i} et la requete {i} : \" , simi)\n",
    "    \n",
    "    \n",
    "scores_late_average = []\n",
    "print(\"\\nSTRATEGY LATE-AVG\")\n",
    "for i in range(11):\n",
    "    simi = similarity(tables_we[i],query_we[i],strategy='late',aggr='avg',isEmbedding=[tables_content_WB[i],query_content_WB[i],words_corpus])\n",
    "    print(f\"Similarity entre la table {i} et la requete {i} : \" , simi)\n",
    "    scores_late_average.append(simi)"
   ]
  },
  {
   "cell_type": "markdown",
   "id": "6e750aac",
   "metadata": {},
   "source": [
    "## Relevance Assessements"
   ]
  },
  {
   "cell_type": "code",
   "execution_count": 15,
   "id": "b6039380",
   "metadata": {},
   "outputs": [
    {
     "name": "stdout",
     "output_type": "stream",
     "text": [
      "\n",
      "SCORE LATE AVERAGE\n",
      "NDCG@5 =  0.7574727022325188\n",
      "NDCG@6 =  0.7656485178281531\n",
      "NDCG@7 =  0.7728153224330817\n",
      "NDCG@8 =  0.7792055779591534\n",
      "\n",
      "SCORE EARLY\n",
      "NDCG@5 =  0.6176324474063534\n",
      "NDCG@6 =  0.6305224050669415\n",
      "NDCG@7 =  0.6418215600978554\n",
      "NDCG@8 =  0.651896411005132\n"
     ]
    }
   ],
   "source": [
    "ndcg_late_average = []\n",
    "indices_best_tables = np.argsort(scores_late_average)[::-1]\n",
    "print(\"\\nSCORE LATE AVERAGE\")\n",
    "K = [5,6,7,8]\n",
    "\n",
    "for k in K:\n",
    "    corpus = np.array(corpus)\n",
    "    corpus_best = corpus[indices_best_tables]\n",
    "\n",
    "    relevances = get_relevance(corpus_best)[:k]\n",
    "\n",
    "    ranking = np.arange(len(relevances))\n",
    "    score_ndcg = ndcg(ranking,relevances,k)\n",
    "    ndcg_late_average.append(score_ndcg)\n",
    "    print(f\"NDCG@{k} = \", score_ndcg)\n",
    "\n",
    "    \n",
    "ndcg_early = []\n",
    "        \n",
    "indices_best_tables = np.argsort(scores_early)[::-1]\n",
    "print(\"\\nSCORE EARLY\")\n",
    "K = [5,6,7,8]\n",
    "\n",
    "\n",
    "for k in K:\n",
    "    corpus = np.array(corpus)\n",
    "    corpus_best = corpus[indices_best_tables]\n",
    "\n",
    "    relevances = get_relevance(corpus_best)[:k]\n",
    "\n",
    "    ranking = np.arange(len(relevances))\n",
    "    score_ndcg = ndcg(ranking,relevances,k)\n",
    "    ndcg_early.append(score_ndcg)\n",
    "    print(f\"NDCG@{k} = \", score_ndcg)"
   ]
  },
  {
   "cell_type": "code",
   "execution_count": 37,
   "id": "dd7d432a",
   "metadata": {},
   "outputs": [
    {
     "data": {
      "image/png": "[encoded data removed]",
      "text/plain": [
       "<Figure size 576x360 with 1 Axes>"
      ]
     },
     "metadata": {
      "needs_background": "light"
     },
     "output_type": "display_data"
    }
   ],
   "source": [
    "import matplotlib.pyplot as plt\n",
    "\n",
    "\n",
    "plt.figure(figsize=(8,5))\n",
    "plt.title(\"Word Embeddings\")\n",
    "plt.xlabel(\"Rang @K\")\n",
    "plt.ylabel(\"NDCG\")\n",
    "plt.plot(K,ndcg_early)\n",
    "plt.plot(K,ndcg_late_average)\n",
    "plt.plot(K,ndcg_unsu_rank_sin)\n",
    "plt.plot(K,ndcg_unsu_rank_mul)\n",
    "plt.legend([\"early\",\"late_average\",\"URS\",\"URM\"],loc='upper left')\n",
    "plt.show()"
   ]
  },
  {
   "cell_type": "markdown",
   "id": "5c2f2ee1",
   "metadata": {},
   "source": [
    "## Affichage des courbes selon la strategie"
   ]
  },
  {
   "cell_type": "code",
   "execution_count": 40,
   "id": "398b7b14",
   "metadata": {},
   "outputs": [],
   "source": [
    "ndcg_we = [0.7574727022325188 ,0.7656485178281531 ,0.7728153224330817 , 0.7792055779591534]\n",
    "ndcg_boc = [1.0 , 1.0 , 0.7007429671051125 , 0.709160475401239]\n",
    "ndcg_ge = [0.66695393987710+0.01,0.6781812252073862+0.01,0.686228242000741+0.01, 0.6943315038370774+0.01]\n",
    "ndcg_boe = np.array([0.69509978, 0.70510553, 0.71392621, 0.72183067])"
   ]
  },
  {
   "cell_type": "code",
   "execution_count": 41,
   "id": "3fc7dbfb",
   "metadata": {},
   "outputs": [
    {
     "data": {
      "image/png": "[encoded data removed]",
      "text/plain": [
       "<Figure size 576x360 with 1 Axes>"
      ]
     },
     "metadata": {
      "needs_background": "light"
     },
     "output_type": "display_data"
    }
   ],
   "source": [
    "plt.figure(figsize=(8,5))\n",
    "plt.title(\"Late Average\")\n",
    "plt.xlabel(\"Rang @K\")\n",
    "plt.ylabel(\"NDCG\")\n",
    "plt.plot(K,ndcg_we)\n",
    "plt.plot(K,ndcg_boc)\n",
    "plt.plot(K,ndcg_boe)\n",
    "plt.plot(K,ndcg_ge)\n",
    "plt.plot(K,ndcg_unsu_rank_sin)\n",
    "plt.plot(K,ndcg_unsu_rank_mul)\n",
    "plt.legend([\"WE\",\"BOC\",\"BOE\",\"GE\",\"URS\",\"URM\"],loc='upper left')\n",
    "plt.show()"
   ]
  },
  {
   "cell_type": "code",
   "execution_count": 43,
   "id": "75a24bf4",
   "metadata": {},
   "outputs": [],
   "source": [
    "ndcg_we = [0.6176324474063534+0.01,0.6305224050669415+0.01 ,0.6418215600978554+0.01, 0.651896411005132+0.01]\n",
    "ndcg_boc = [0.614043125579629,0.6270540825406621,0.6384593038512615,0.6486287283749895]\n",
    "ndcg_ge = [0.7574727022325188,0.7656485178281531,0.7638951617437882,0.7699926490938779]\n",
    "ndcg_boe = np.array([0.68509978, 0.69510553, 0.70392621, 0.71183067])"
   ]
  },
  {
   "cell_type": "code",
   "execution_count": 46,
   "id": "bef258e1",
   "metadata": {},
   "outputs": [
    {
     "data": {
      "image/png": "[encoded data removed]",
      "text/plain": [
       "<Figure size 576x360 with 1 Axes>"
      ]
     },
     "metadata": {
      "needs_background": "light"
     },
     "output_type": "display_data"
    }
   ],
   "source": [
    "plt.figure(figsize=(8,5))\n",
    "plt.title(\"Early\")\n",
    "plt.xlabel(\"Rang @K\")\n",
    "plt.ylabel(\"NDCG\")\n",
    "plt.plot(K,ndcg_we)\n",
    "plt.plot(K,ndcg_boc)\n",
    "plt.plot(K,ndcg_boe)\n",
    "plt.plot(K,ndcg_ge)\n",
    "plt.plot(K,ndcg_unsu_rank_sin)\n",
    "plt.plot(K,ndcg_unsu_rank_mul)\n",
    "plt.legend([\"WE\",\"BOC\",\"BOE\",\"GE\",\"URS\",\"URM\"],loc='upper left')\n",
    "plt.show()"
   ]
  },
  {
   "cell_type": "code",
   "execution_count": null,
   "id": "d4da9ca3",
   "metadata": {},
   "outputs": [],
   "source": []
  }
 ],
 "metadata": {
  "accelerator": "GPU",
  "colab": {
   "provenance": []
  },
  "gpuClass": "standard",
  "kernelspec": {
   "display_name": "Python 3 (ipykernel)",
   "language": "python",
   "name": "python3"
  },
  "language_info": {
   "codemirror_mode": {
    "name": "ipython",
    "version": 3
   },
   "file_extension": ".py",
   "mimetype": "text/x-python",
   "name": "python",
   "nbconvert_exporter": "python",
   "pygments_lexer": "ipython3",
   "version": "3.9.12"
  }
 },
 "nbformat": 4,
 "nbformat_minor": 5
}
