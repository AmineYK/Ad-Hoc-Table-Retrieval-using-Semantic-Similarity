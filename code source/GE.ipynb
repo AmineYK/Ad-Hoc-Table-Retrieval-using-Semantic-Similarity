{
 "cells": [
  {
   "cell_type": "code",
   "execution_count": 2,
   "id": "1c7e8fb0",
   "metadata": {
    "colab": {
     "base_uri": "https://localhost:8080/"
    },
    "id": "1c7e8fb0",
    "outputId": "508a31ca-1c8a-46da-d0fb-f2015892cff6"
   },
   "outputs": [
    {
     "name": "stdout",
     "output_type": "stream",
     "text": [
      "Requirement already satisfied: python-terrier in /home/amine/anaconda3/lib/python3.9/site-packages (0.9.2)\n",
      "Requirement already satisfied: statsmodels in /home/amine/anaconda3/lib/python3.9/site-packages (from python-terrier) (0.13.2)\n",
      "Requirement already satisfied: jinja2 in /home/amine/anaconda3/lib/python3.9/site-packages (from python-terrier) (2.11.3)\n",
      "Requirement already satisfied: nptyping==1.4.4 in /home/amine/anaconda3/lib/python3.9/site-packages (from python-terrier) (1.4.4)\n",
      "Requirement already satisfied: pandas in /home/amine/anaconda3/lib/python3.9/site-packages (from python-terrier) (1.4.2)\n",
      "Requirement already satisfied: dill in /home/amine/anaconda3/lib/python3.9/site-packages (from python-terrier) (0.3.6)\n",
      "Requirement already satisfied: chest in /home/amine/anaconda3/lib/python3.9/site-packages (from python-terrier) (0.2.3)\n",
      "Requirement already satisfied: ir-measures>=0.3.1 in /home/amine/anaconda3/lib/python3.9/site-packages (from python-terrier) (0.3.1)\n",
      "Requirement already satisfied: numpy in /home/amine/anaconda3/lib/python3.9/site-packages (from python-terrier) (1.22.4)\n",
      "Requirement already satisfied: tqdm in /home/amine/anaconda3/lib/python3.9/site-packages (from python-terrier) (4.64.0)\n",
      "Requirement already satisfied: joblib in /home/amine/anaconda3/lib/python3.9/site-packages (from python-terrier) (1.2.0)\n",
      "Requirement already satisfied: wget in /home/amine/anaconda3/lib/python3.9/site-packages (from python-terrier) (3.2)\n",
      "Requirement already satisfied: scipy in /home/amine/anaconda3/lib/python3.9/site-packages (from python-terrier) (1.7.3)\n",
      "Requirement already satisfied: requests in /home/amine/anaconda3/lib/python3.9/site-packages (from python-terrier) (2.27.1)\n",
      "Requirement already satisfied: more-itertools in /home/amine/anaconda3/lib/python3.9/site-packages (from python-terrier) (9.1.0)\n",
      "Requirement already satisfied: pyjnius>=1.4.2 in /home/amine/anaconda3/lib/python3.9/site-packages (from python-terrier) (1.4.2)\n",
      "Requirement already satisfied: matchpy in /home/amine/anaconda3/lib/python3.9/site-packages (from python-terrier) (0.5.5)\n",
      "Requirement already satisfied: deprecated in /home/amine/anaconda3/lib/python3.9/site-packages (from python-terrier) (1.2.13)\n",
      "Requirement already satisfied: ir-datasets>=0.3.2 in /home/amine/anaconda3/lib/python3.9/site-packages (from python-terrier) (0.5.4)\n",
      "Requirement already satisfied: scikit-learn in /home/amine/anaconda3/lib/python3.9/site-packages (from python-terrier) (0.23.2)\n",
      "Requirement already satisfied: pytrec-eval-terrier>=0.5.3 in /home/amine/anaconda3/lib/python3.9/site-packages (from python-terrier) (0.5.5)\n",
      "Requirement already satisfied: typish>=1.7.0 in /home/amine/anaconda3/lib/python3.9/site-packages (from nptyping==1.4.4->python-terrier) (1.9.3)\n",
      "Requirement already satisfied: zlib-state>=0.1.3 in /home/amine/anaconda3/lib/python3.9/site-packages (from ir-datasets>=0.3.2->python-terrier) (0.1.5)\n",
      "Requirement already satisfied: lz4>=3.1.1 in /home/amine/anaconda3/lib/python3.9/site-packages (from ir-datasets>=0.3.2->python-terrier) (4.3.2)\n",
      "Requirement already satisfied: warc3-wet>=0.2.3 in /home/amine/anaconda3/lib/python3.9/site-packages (from ir-datasets>=0.3.2->python-terrier) (0.2.3)\n",
      "Requirement already satisfied: ijson>=3.1.3 in /home/amine/anaconda3/lib/python3.9/site-packages (from ir-datasets>=0.3.2->python-terrier) (3.2.0.post0)\n",
      "Requirement already satisfied: unlzw3>=0.2.1 in /home/amine/anaconda3/lib/python3.9/site-packages (from ir-datasets>=0.3.2->python-terrier) (0.2.2)\n",
      "Requirement already satisfied: pyautocorpus>=0.1.1 in /home/amine/anaconda3/lib/python3.9/site-packages (from ir-datasets>=0.3.2->python-terrier) (0.1.9)\n",
      "Requirement already satisfied: beautifulsoup4>=4.4.1 in /home/amine/anaconda3/lib/python3.9/site-packages (from ir-datasets>=0.3.2->python-terrier) (4.11.1)\n",
      "Requirement already satisfied: trec-car-tools>=2.5.4 in /home/amine/anaconda3/lib/python3.9/site-packages (from ir-datasets>=0.3.2->python-terrier) (2.6)\n",
      "Requirement already satisfied: lxml>=4.5.2 in /home/amine/anaconda3/lib/python3.9/site-packages (from ir-datasets>=0.3.2->python-terrier) (4.8.0)\n",
      "Requirement already satisfied: pyyaml>=5.3.1 in /home/amine/anaconda3/lib/python3.9/site-packages (from ir-datasets>=0.3.2->python-terrier) (6.0)\n",
      "Requirement already satisfied: warc3-wet-clueweb09>=0.2.5 in /home/amine/anaconda3/lib/python3.9/site-packages (from ir-datasets>=0.3.2->python-terrier) (0.2.5)\n",
      "Requirement already satisfied: soupsieve>1.2 in /home/amine/anaconda3/lib/python3.9/site-packages (from beautifulsoup4>=4.4.1->ir-datasets>=0.3.2->python-terrier) (2.3.1)\n",
      "Requirement already satisfied: cwl-eval>=1.0.10 in /home/amine/anaconda3/lib/python3.9/site-packages (from ir-measures>=0.3.1->python-terrier) (1.0.12)\n",
      "Requirement already satisfied: six>=1.7.0 in /home/amine/anaconda3/lib/python3.9/site-packages (from pyjnius>=1.4.2->python-terrier) (1.16.0)\n",
      "Requirement already satisfied: charset-normalizer~=2.0.0 in /home/amine/anaconda3/lib/python3.9/site-packages (from requests->python-terrier) (2.0.4)\n",
      "Requirement already satisfied: certifi>=2017.4.17 in /home/amine/anaconda3/lib/python3.9/site-packages (from requests->python-terrier) (2021.10.8)\n",
      "Requirement already satisfied: idna<4,>=2.5 in /home/amine/anaconda3/lib/python3.9/site-packages (from requests->python-terrier) (3.3)\n",
      "Requirement already satisfied: urllib3<1.27,>=1.21.1 in /home/amine/anaconda3/lib/python3.9/site-packages (from requests->python-terrier) (1.26.15)\n",
      "Requirement already satisfied: cbor>=1.0.0 in /home/amine/anaconda3/lib/python3.9/site-packages (from trec-car-tools>=2.5.4->ir-datasets>=0.3.2->python-terrier) (1.0.0)\n",
      "Requirement already satisfied: heapdict in /home/amine/anaconda3/lib/python3.9/site-packages (from chest->python-terrier) (1.0.1)\n",
      "Requirement already satisfied: wrapt<2,>=1.10 in /home/amine/anaconda3/lib/python3.9/site-packages (from deprecated->python-terrier) (1.12.1)\n",
      "Requirement already satisfied: MarkupSafe>=0.23 in /home/amine/anaconda3/lib/python3.9/site-packages (from jinja2->python-terrier) (2.0.1)\n",
      "Requirement already satisfied: multiset<3.0,>=2.0 in /home/amine/anaconda3/lib/python3.9/site-packages (from matchpy->python-terrier) (2.1.1)\n",
      "Requirement already satisfied: python-dateutil>=2.8.1 in /home/amine/anaconda3/lib/python3.9/site-packages (from pandas->python-terrier) (2.8.2)\n",
      "Requirement already satisfied: pytz>=2020.1 in /home/amine/anaconda3/lib/python3.9/site-packages (from pandas->python-terrier) (2021.3)\n",
      "Requirement already satisfied: threadpoolctl>=2.0.0 in /home/amine/anaconda3/lib/python3.9/site-packages (from scikit-learn->python-terrier) (2.2.0)\n",
      "Requirement already satisfied: patsy>=0.5.2 in /home/amine/anaconda3/lib/python3.9/site-packages (from statsmodels->python-terrier) (0.5.2)\n",
      "Requirement already satisfied: packaging>=21.3 in /home/amine/anaconda3/lib/python3.9/site-packages (from statsmodels->python-terrier) (21.3)\n",
      "Requirement already satisfied: pyparsing!=3.0.5,>=2.0.2 in /home/amine/anaconda3/lib/python3.9/site-packages (from packaging>=21.3->statsmodels->python-terrier) (3.0.4)\n"
     ]
    },
    {
     "name": "stderr",
     "output_type": "stream",
     "text": [
      "PyTerrier 0.9.2 has loaded Terrier 5.7 (built by craigm on 2022-11-10 18:30) and terrier-helper 0.0.7\n",
      "\n",
      "No etc/terrier.properties, using terrier.default.properties for bootstrap configuration.\n"
     ]
    }
   ],
   "source": [
    "!pip install python-terrier\n",
    "import math\n",
    "import gensim\n",
    "import pyterrier as pt\n",
    "import re\n",
    "import numpy as np\n",
    "import json\n",
    "import pandas as pd\n",
    "import math\n",
    "import nltk\n",
    "from tqdm import tqdm\n",
    "from nltk.tokenize import word_tokenize\n",
    "from nltk.stem.snowball import FrenchStemmer\n",
    "from SPARQLWrapper import SPARQLWrapper, JSON\n",
    "import warnings\n",
    "warnings.filterwarnings(\"ignore\")\n",
    "import wikipedia\n",
    "import gensim.downloader as api\n",
    "import random\n",
    "from pyrdf2vec.graphs import KG\n",
    "from pyrdf2vec import RDF2VecTransformer\n",
    "from pyrdf2vec.samplers import UniformSampler\n",
    "from pyrdf2vec.embedders import Word2Vec\n",
    "from pyrdf2vec.walkers import RandomWalker\n",
    "from utils import * \n",
    "\n",
    "if not pt.started():\n",
    "    pt.init(boot_packages=[\"com.github.terrierteam:terrier-prf:-SNAPSHOT\"])"
   ]
  },
  {
   "cell_type": "markdown",
   "id": "58d81699",
   "metadata": {},
   "source": [
    "## Chargement des tables et des requetes"
   ]
  },
  {
   "cell_type": "code",
   "execution_count": 3,
   "id": "3q26856oBatK",
   "metadata": {
    "id": "3q26856oBatK"
   },
   "outputs": [],
   "source": [
    "with open('tables_1000.json', 'r') as f:\n",
    "  # Charger les données JSON dans un dictionnaire Python\n",
    "  tables = json.load(f)\n",
    "    \n",
    "# Ouvrir le fichier en mode lecture\n",
    "with open('requetes_20.json', 'r') as f:\n",
    "  # Charger les données JSON dans un dictionnaire Python\n",
    "  queries = json.load(f)"
   ]
  },
  {
   "cell_type": "markdown",
   "id": "4b0439f2",
   "metadata": {},
   "source": [
    "# Experimentations"
   ]
  },
  {
   "cell_type": "code",
   "execution_count": 5,
   "id": "f583a1c9",
   "metadata": {},
   "outputs": [],
   "source": [
    "corpus = tables['tables']\n",
    "nb_tables = 1000\n",
    "nb_queries = 20"
   ]
  },
  {
   "cell_type": "code",
   "execution_count": 6,
   "id": "7bae9e8d",
   "metadata": {},
   "outputs": [],
   "source": [
    "vocabulaire = []\n",
    "for i in range(nb_tables):\n",
    "    table = corpus[i]\n",
    "    content_word = content_extraction(table,base='word')\n",
    "    vocabulaire.extend(content_word)\n",
    "    \n",
    "vocabulaire = set(vocabulaire)"
   ]
  },
  {
   "cell_type": "markdown",
   "id": "fffb6602",
   "metadata": {},
   "source": [
    "### Unsupervised Ranking"
   ]
  },
  {
   "cell_type": "code",
   "execution_count": 19,
   "id": "Nb7oLfLvynrF",
   "metadata": {
    "colab": {
     "base_uri": "https://localhost:8080/",
     "height": 1000
    },
    "id": "Nb7oLfLvynrF",
    "outputId": "9ae53584-6f3e-46d2-c82f-1c2ad2e64c65"
   },
   "outputs": [
    {
     "name": "stdout",
     "output_type": "stream",
     "text": [
      "\n",
      "Pour la table 0 \n",
      "Score BM25 en utilisant le ranking non supervisé en single field :  0\n",
      "Score BM25 en utilisant le ranking non supervisé en multi field (poids uniforms):  0.0\n",
      "Score BM25 en utilisant le ranking non supervisé en multi field (poids non uniforms):  0.0\n",
      "\n",
      "Pour la table 1 \n",
      "Score BM25 en utilisant le ranking non supervisé en single field :  4.394449154672439\n",
      "Score BM25 en utilisant le ranking non supervisé en multi field (poids uniforms):  0.2716246968306389\n",
      "Score BM25 en utilisant le ranking non supervisé en multi field (poids non uniforms):  0.13581234841531944\n",
      "\n",
      "Pour la table 2 \n",
      "Score BM25 en utilisant le ranking non supervisé en single field :  0\n",
      "Score BM25 en utilisant le ranking non supervisé en multi field (poids uniforms):  0.0\n",
      "Score BM25 en utilisant le ranking non supervisé en multi field (poids non uniforms):  0.0\n",
      "\n",
      "Pour la table 3 \n",
      "Score BM25 en utilisant le ranking non supervisé en single field :  2.9789251552376097\n",
      "Score BM25 en utilisant le ranking non supervisé en multi field (poids uniforms):  0.16945957207744075\n",
      "Score BM25 en utilisant le ranking non supervisé en multi field (poids non uniforms):  0.08472978603872038\n",
      "\n",
      "Pour la table 4 \n",
      "Score BM25 en utilisant le ranking non supervisé en single field :  0\n",
      "Score BM25 en utilisant le ranking non supervisé en multi field (poids uniforms):  0.0\n",
      "Score BM25 en utilisant le ranking non supervisé en multi field (poids non uniforms):  0.0\n",
      "\n",
      "Pour la table 5 \n",
      "Score BM25 en utilisant le ranking non supervisé en single field :  0\n",
      "Score BM25 en utilisant le ranking non supervisé en multi field (poids uniforms):  0.0\n",
      "Score BM25 en utilisant le ranking non supervisé en multi field (poids non uniforms):  0.0\n",
      "\n",
      "Pour la table 6 \n",
      "Score BM25 en utilisant le ranking non supervisé en single field :  0\n",
      "Score BM25 en utilisant le ranking non supervisé en multi field (poids uniforms):  0.0\n",
      "Score BM25 en utilisant le ranking non supervisé en multi field (poids non uniforms):  0.0\n",
      "\n",
      "Pour la table 7 \n",
      "Score BM25 en utilisant le ranking non supervisé en single field :  0\n",
      "Score BM25 en utilisant le ranking non supervisé en multi field (poids uniforms):  0.10216512475319815\n",
      "Score BM25 en utilisant le ranking non supervisé en multi field (poids non uniforms):  0.051082562376599076\n",
      "\n",
      "Pour la table 8 \n",
      "Score BM25 en utilisant le ranking non supervisé en single field :  0\n",
      "Score BM25 en utilisant le ranking non supervisé en multi field (poids uniforms):  0.10216512475319815\n",
      "Score BM25 en utilisant le ranking non supervisé en multi field (poids non uniforms):  0.051082562376599076\n",
      "\n",
      "Pour la table 9 \n",
      "Score BM25 en utilisant le ranking non supervisé en single field :  0\n",
      "Score BM25 en utilisant le ranking non supervisé en multi field (poids uniforms):  0.10216512475319815\n",
      "Score BM25 en utilisant le ranking non supervisé en multi field (poids non uniforms):  0.051082562376599076\n",
      "\n",
      "Pour la table 10 \n",
      "Score BM25 en utilisant le ranking non supervisé en single field :  0\n",
      "Score BM25 en utilisant le ranking non supervisé en multi field (poids uniforms):  0.0\n",
      "Score BM25 en utilisant le ranking non supervisé en multi field (poids non uniforms):  0.0\n"
     ]
    }
   ],
   "source": [
    "scores_unsu_ran_sin = []\n",
    "scores_unsu_ran_mul = []\n",
    "\n",
    "for i,table in enumerate(corpus):\n",
    "    print(f\"\\nPour la table {i} \")\n",
    "    q = query\n",
    "    print(\"Score BM25 en utilisant le ranking non supervisé en single field : \",unsuprvised_ranking(table,q))\n",
    "    scores_unsu_ran_sin.append(unsuprvised_ranking(table,q))\n",
    "    print(\"Score BM25 en utilisant le ranking non supervisé en multi field (poids uniforms): \",unsuprvised_ranking(table,q,False))\n",
    "    scores_unsu_ran_mul.append(unsuprvised_ranking(table,q,False))\n",
    "    print(\"Score BM25 en utilisant le ranking non supervisé en multi field (poids non uniforms): \",unsuprvised_ranking(table,q,False,[0.1,0.1,0.1,0.1,0.6]))"
   ]
  },
  {
   "cell_type": "code",
   "execution_count": 20,
   "id": "a22f3124",
   "metadata": {},
   "outputs": [
    {
     "name": "stdout",
     "output_type": "stream",
     "text": [
      "\n",
      "SCORE UNSUPERVISED RANKING\n",
      "NDCG@5 =  0.6176324474063534\n",
      "NDCG@6 =  0.6305224050669415\n",
      "NDCG@7 =  0.6418215600978554\n",
      "NDCG@8 =  0.651896411005132\n",
      "\n",
      "SCORE UNSUPERVISED RANKING\n",
      "NDCG@5 =  0.666953939877106\n",
      "NDCG@6 =  0.6781812252073862\n",
      "NDCG@7 =  0.6880229051308991\n",
      "NDCG@8 =  0.6967982036054533\n"
     ]
    }
   ],
   "source": [
    "ndcg_unsu_rank_sin = []\n",
    "indices_best_tables = np.argsort(scores_unsu_ran_sin)[::-1]\n",
    "print(\"\\nSCORE UNSUPERVISED RANKING\")\n",
    "K = [5,6,7,8]\n",
    "for k in K:\n",
    "    corpus = np.array(corpus)\n",
    "    corpus_best = corpus[indices_best_tables]\n",
    "\n",
    "    relevances = get_relevance(corpus_best)[:k]\n",
    "\n",
    "    ranking = np.arange(len(relevances))\n",
    "    score_ndcg = ndcg(ranking,relevances,k)\n",
    "    ndcg_unsu_rank_sin.append(score_ndcg)\n",
    "    print(f\"NDCG@{k} = \", score_ndcg)\n",
    "    \n",
    "    \n",
    "    \n",
    "ndcg_unsu_rank_mul = []\n",
    "indices_best_tables = np.argsort(scores_unsu_ran_mul)[::-1]\n",
    "print(\"\\nSCORE UNSUPERVISED RANKING\")\n",
    "K = [5,6,7,8]\n",
    "for k in K:\n",
    "    corpus = np.array(corpus)\n",
    "    corpus_best = corpus[indices_best_tables]\n",
    "\n",
    "    relevances = get_relevance(corpus_best)[:k]\n",
    "\n",
    "    ranking = np.arange(len(relevances))\n",
    "    score_ndcg = ndcg(ranking,relevances,k)\n",
    "    ndcg_unsu_rank_mul.append(score_ndcg)\n",
    "    print(f\"NDCG@{k} = \", score_ndcg)"
   ]
  },
  {
   "cell_type": "markdown",
   "id": "ed9738b7",
   "metadata": {},
   "source": [
    "## Content Extraction"
   ]
  },
  {
   "cell_type": "markdown",
   "id": "015db51a",
   "metadata": {},
   "source": [
    "### Word Based"
   ]
  },
  {
   "cell_type": "code",
   "execution_count": 21,
   "id": "072cc6b5",
   "metadata": {},
   "outputs": [],
   "source": [
    "tables_content_WB = []\n",
    "for i in range(nb_tables):\n",
    "    table = tables['tables'][i]\n",
    "    content_word = content_extraction(table,base='word')\n",
    "    tables_content_WB.append(content_word)\n",
    "    \n",
    "query_content_WB = []\n",
    "for i in range(nb_queries):\n",
    "    content_word = content_extraction(query,base='word',query=True)\n",
    "    query_content_WB.append(content_word)"
   ]
  },
  {
   "cell_type": "markdown",
   "id": "ca1cbb50",
   "metadata": {},
   "source": [
    "#### Pour les tables"
   ]
  },
  {
   "cell_type": "code",
   "execution_count": 22,
   "id": "a56e78fa",
   "metadata": {},
   "outputs": [
    {
     "name": "stdout",
     "output_type": "stream",
     "text": [
      "EN BASE WORD\n",
      "\n",
      "Le contenu pour la table 0 : \n",
      "{'cramer', 'positions', 'external', 'dettmar', 'sporting', 'links'}\n",
      "\n",
      "Le contenu pour la table 1 : \n",
      "{'data', 'climate', 'burma', 'katha', 'for'}\n",
      "\n",
      "Le contenu pour la table 2 : \n",
      "{'of', 'chart', 'november', 'year', 'gone', 'charts', 'end', '1998', 'till', 'position'}\n",
      "\n",
      "Le contenu pour la table 3 : \n",
      "{'2006', 'charts', 'song', 'mikazuki', 'peak', 'chart', 'position'}\n",
      "\n",
      "Le contenu pour la table 4 : \n",
      "{'latitude', 'diameter', 'crater', 'satellite', 'craters', 'longitude', 'sabine'}\n",
      "\n",
      "Le contenu pour la table 5 : \n",
      "{'latitude', 'diameter', 'crater', 'satellite', 'secchi', 'craters', 'lunar', 'longitude'}\n",
      "\n",
      "Le contenu pour la table 6 : \n",
      "{'latitude', 'diameter', 'crater', 'satellite', 'silberschlag', 'craters', 'longitude'}\n",
      "\n",
      "Le contenu pour la table 7 : \n",
      "{'the', 'attendances', 'season', 'division', 'average', 'london', 'valley'}\n",
      "\n",
      "Le contenu pour la table 8 : \n",
      "{'the', 'attendances', 'season', 'division', 'average', 'london', 'valley'}\n",
      "\n",
      "Le contenu pour la table 9 : \n",
      "{'the', 'attendances', 'season', 'division', 'average', 'london', 'valley'}\n",
      "\n",
      "Le contenu pour la table 10 : \n",
      "{'latitude', 'diameter', 'crater', 'sosigenes', 'satellite', 'craters', 'longitude'}\n"
     ]
    }
   ],
   "source": [
    "print(\"EN BASE WORD\")\n",
    "for i in range(11):\n",
    "    print(f\"\\nLe contenu pour la table {i} : \")\n",
    "    print(tables_content_WB[i])"
   ]
  },
  {
   "cell_type": "markdown",
   "id": "eafd4a13",
   "metadata": {},
   "source": [
    "## Semantic Representation"
   ]
  },
  {
   "cell_type": "markdown",
   "id": "84ba6059",
   "metadata": {},
   "source": [
    "### Graph Embeddings"
   ]
  },
  {
   "cell_type": "code",
   "execution_count": 23,
   "id": "5a067e40",
   "metadata": {},
   "outputs": [],
   "source": [
    "tables_ge = []\n",
    "for i in range(nb_tables):\n",
    "    table = tables['tables'][i]\n",
    "    content_entity_ge = semantic_representation(tables_content_WB[i],'nothing',space='ge')\n",
    "    tables_ge.append(content_entity_ge)\n",
    "    \n",
    "query_ge = []\n",
    "for i in range(nb_queries):\n",
    "    content_entity_ge = semantic_representation(query_content_WB[i],'nothing',space='ge')\n",
    "    query_ge.append(content_entity_ge)"
   ]
  },
  {
   "cell_type": "code",
   "execution_count": 24,
   "id": "3a996b1e",
   "metadata": {},
   "outputs": [
    {
     "name": "stdout",
     "output_type": "stream",
     "text": [
      "STRATEGY EARLY\n",
      "Similarity entre la table 0 et la requete 0 :  0.06369308256643098\n",
      "Similarity entre la table 1 et la requete 1 :  0.5080894666695157\n",
      "Similarity entre la table 2 et la requete 2 :  -0.04645034122681875\n",
      "Similarity entre la table 3 et la requete 3 :  0.14700092275266124\n",
      "Similarity entre la table 4 et la requete 4 :  0.037344964202482754\n",
      "Similarity entre la table 5 et la requete 5 :  -0.03306831354507589\n",
      "Similarity entre la table 6 et la requete 6 :  0.06731543345895698\n",
      "Similarity entre la table 7 et la requete 7 :  0.1471482224280943\n",
      "Similarity entre la table 8 et la requete 8 :  0.1471482224280943\n",
      "Similarity entre la table 9 et la requete 9 :  0.1471482224280943\n",
      "Similarity entre la table 10 et la requete 10 :  0.0445794578874837\n",
      "\n",
      "STRATEGY LATE-MAX\n",
      "Similarity entre la table 0 et la requete 0 :  0.24813229487309613\n",
      "Similarity entre la table 1 et la requete 1 :  0.9993323881059423\n",
      "Similarity entre la table 2 et la requete 2 :  0.17959366908650945\n",
      "Similarity entre la table 3 et la requete 3 :  0.9992807532373224\n",
      "Similarity entre la table 4 et la requete 4 :  0.22725728705501097\n",
      "Similarity entre la table 5 et la requete 5 :  0.22725728705501097\n",
      "Similarity entre la table 6 et la requete 6 :  0.22725728705501097\n",
      "Similarity entre la table 7 et la requete 7 :  0.9993170352500308\n",
      "Similarity entre la table 8 et la requete 8 :  0.9993170352500308\n",
      "Similarity entre la table 9 et la requete 9 :  0.9993170352500308\n",
      "Similarity entre la table 10 et la requete 10 :  0.23516461863824248\n",
      "\n",
      "STRATEGY LATE-SUM\n",
      "Similarity entre la table 0 et la requete 0 :  0.28348988319804935\n",
      "Similarity entre la table 1 et la requete 1 :  2.1954004085378496\n",
      "Similarity entre la table 2 et la requete 2 :  -0.3403415977731119\n",
      "Similarity entre la table 3 et la requete 3 :  0.7099553905681282\n",
      "Similarity entre la table 4 et la requete 4 :  0.22169029465078882\n",
      "Similarity entre la table 5 et la requete 5 :  -0.17872092892926394\n",
      "Similarity entre la table 6 et la requete 6 :  0.40440756026927266\n",
      "Similarity entre la table 7 et la requete 7 :  0.6366326238622548\n",
      "Similarity entre la table 8 et la requete 8 :  0.6366326238622548\n",
      "Similarity entre la table 9 et la requete 9 :  0.6366326238622548\n",
      "Similarity entre la table 10 et la requete 10 :  0.2810168586877622\n",
      "\n",
      "STRATEGY LATE-AVG\n",
      "Similarity entre la table 0 et la requete 0 :  0.01181207846658539\n",
      "Similarity entre la table 1 et la requete 1 :  0.10977002042689248\n",
      "Similarity entre la table 2 et la requete 2 :  -0.008508539944327797\n",
      "Similarity entre la table 3 et la requete 3 :  0.025355549663147434\n",
      "Similarity entre la table 4 et la requete 4 :  0.007917510523242457\n",
      "Similarity entre la table 5 et la requete 5 :  -0.005585029029039498\n",
      "Similarity entre la table 6 et la requete 6 :  0.014443127152474023\n",
      "Similarity entre la table 7 et la requete 7 :  0.02273687942365196\n",
      "Similarity entre la table 8 et la requete 8 :  0.02273687942365196\n",
      "Similarity entre la table 9 et la requete 9 :  0.02273687942365196\n",
      "Similarity entre la table 10 et la requete 10 :  0.010036316381705794\n"
     ]
    }
   ],
   "source": [
    "print(\"STRATEGY EARLY\")\n",
    "scores_early = []\n",
    "for i in range(11):\n",
    "    simi = similarity(tables_ge[i],query_ge[i],strategy='early',aggr='avg',isEmbedding=False)\n",
    "    print(f\"Similarity entre la table {i} et la requete {i} : \" , simi)\n",
    "    scores_early.append(simi)\n",
    "    \n",
    "    \n",
    "print(\"\\nSTRATEGY LATE-MAX\")\n",
    "for i in range(11):\n",
    "    simi = similarity(tables_ge[i],query_ge[i],strategy='late',aggr='max',isEmbedding=False)\n",
    "    print(f\"Similarity entre la table {i} et la requete {i} : \" , simi)\n",
    "    \n",
    "print(\"\\nSTRATEGY LATE-SUM\")\n",
    "for i in range(11):\n",
    "    simi = similarity(tables_ge[i],query_ge[i],strategy='late',aggr='sum',isEmbedding=False)\n",
    "    print(f\"Similarity entre la table {i} et la requete {i} : \" , simi)\n",
    "    \n",
    "    \n",
    "scores_late_average = []\n",
    "print(\"\\nSTRATEGY LATE-AVG\")\n",
    "for i in range(11):\n",
    "    simi = similarity(tables_ge[i],query_ge[i],strategy='late',aggr='avg',isEmbedding=False)\n",
    "    print(f\"Similarity entre la table {i} et la requete {i} : \" , simi)\n",
    "    scores_late_average.append(simi)"
   ]
  },
  {
   "cell_type": "markdown",
   "id": "6e750aac",
   "metadata": {},
   "source": [
    "## Relevance Assessements"
   ]
  },
  {
   "cell_type": "code",
   "execution_count": 25,
   "id": "398b7b14",
   "metadata": {},
   "outputs": [
    {
     "name": "stdout",
     "output_type": "stream",
     "text": [
      "\n",
      "SCORE LATE AVERAGE\n",
      "NDCG@5 =  0.666953939877106\n",
      "NDCG@6 =  0.6781812252073862\n",
      "NDCG@7 =  0.6862282420007412\n",
      "NDCG@8 =  0.6943315038370774\n",
      "\n",
      "SCORE EARLY\n",
      "NDCG@5 =  0.7574727022325188\n",
      "NDCG@6 =  0.7656485178281531\n",
      "NDCG@7 =  0.7638951617437882\n",
      "NDCG@8 =  0.7699926490938779\n"
     ]
    }
   ],
   "source": [
    "ndcg_late_average = []\n",
    "indices_best_tables = np.argsort(scores_late_average)[::-1]\n",
    "print(\"\\nSCORE LATE AVERAGE\")\n",
    "K = [5,6,7,8]\n",
    "\n",
    "for k in K:\n",
    "    corpus = np.array(corpus)\n",
    "    corpus_best = corpus[indices_best_tables]\n",
    "\n",
    "    relevances = get_relevance(corpus_best)[:k]\n",
    "\n",
    "    ranking = np.arange(len(relevances))\n",
    "    score_ndcg = ndcg(ranking,relevances,k)\n",
    "    ndcg_late_average.append(score_ndcg)\n",
    "    print(f\"NDCG@{k} = \", score_ndcg)\n",
    "\n",
    "    \n",
    "ndcg_early = []\n",
    "        \n",
    "indices_best_tables = np.argsort(scores_early)[::-1]\n",
    "print(\"\\nSCORE EARLY\")\n",
    "K = [5,6,7,8]\n",
    "\n",
    "\n",
    "for k in K:\n",
    "    corpus = np.array(corpus)\n",
    "    corpus_best = corpus[indices_best_tables]\n",
    "\n",
    "    relevances = get_relevance(corpus_best)[:k]\n",
    "\n",
    "    ranking = np.arange(len(relevances))\n",
    "    score_ndcg = ndcg(ranking,relevances,k)\n",
    "    ndcg_early.append(score_ndcg)\n",
    "    print(f\"NDCG@{k} = \", score_ndcg)"
   ]
  },
  {
   "cell_type": "code",
   "execution_count": 32,
   "id": "1d2d210f",
   "metadata": {},
   "outputs": [
    {
     "data": {
      "image/png": "[encoded data removed]",
      "text/plain": [
       "<Figure size 576x360 with 1 Axes>"
      ]
     },
     "metadata": {
      "needs_background": "light"
     },
     "output_type": "display_data"
    }
   ],
   "source": [
    "import matplotlib.pyplot as plt\n",
    "\n",
    "\n",
    "plt.figure(figsize=(8,5))\n",
    "plt.title(\"Graph Embedding\")\n",
    "plt.xlabel(\"Rang @K\")\n",
    "plt.ylabel(\"NDCG\")\n",
    "plt.plot(K,ndcg_early)\n",
    "plt.plot(K,ndcg_late_average)\n",
    "plt.plot(K,ndcg_unsu_rank_sin)\n",
    "plt.plot(K,ndcg_unsu_rank_mul)\n",
    "plt.legend([\"early\",\"late_average\",\"URS\",\"URM\"],loc='upper left')\n",
    "plt.show()"
   ]
  },
  {
   "cell_type": "code",
   "execution_count": null,
   "id": "49ff2244",
   "metadata": {},
   "outputs": [],
   "source": []
  }
 ],
 "metadata": {
  "accelerator": "GPU",
  "colab": {
   "provenance": []
  },
  "gpuClass": "standard",
  "kernelspec": {
   "display_name": "Python 3 (ipykernel)",
   "language": "python",
   "name": "python3"
  },
  "language_info": {
   "codemirror_mode": {
    "name": "ipython",
    "version": 3
   },
   "file_extension": ".py",
   "mimetype": "text/x-python",
   "name": "python",
   "nbconvert_exporter": "python",
   "pygments_lexer": "ipython3",
   "version": "3.9.12"
  }
 },
 "nbformat": 4,
 "nbformat_minor": 5
}
